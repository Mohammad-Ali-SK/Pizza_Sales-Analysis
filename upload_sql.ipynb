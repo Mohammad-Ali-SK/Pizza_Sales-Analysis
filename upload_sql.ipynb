{
 "cells": [
  {
   "cell_type": "markdown",
   "metadata": {},
   "source": [
    "## Upload All File on SQL"
   ]
  },
  {
   "cell_type": "code",
   "execution_count": 3,
   "metadata": {},
   "outputs": [
    {
     "name": "stdout",
     "output_type": "stream",
     "text": [
      "Connected to the database.\n",
      "Table `order_detail` created or already exists.\n",
      "Data from `order_details.csv` inserted successfully into `order_detail`.\n",
      "Table `orders` created or already exists.\n",
      "Data from `./orders.csv` inserted successfully into `orders`.\n",
      "Table `pizza_type` created or already exists.\n",
      "Data from `./pizza_types.csv` inserted successfully into `pizza_type`.\n",
      "Table `pizzas` created or already exists.\n",
      "Data from `./pizzas.csv` inserted successfully into `pizzas`.\n",
      "Database connection closed.\n"
     ]
    }
   ],
   "source": [
    "import pandas as pd\n",
    "import psycopg2\n",
    "import os\n",
    "\n",
    "# List of CSV files and their corresponding table names\n",
    "csv_files = [\n",
    "    ('order_details.csv', 'order_detail'),\n",
    "    ('./orders.csv', 'orders'),\n",
    "    ('./pizza_types.csv', 'pizza_type'),\n",
    "    ('./pizzas.csv', 'pizzas'),  # Added payments.csv for specific handling\n",
    "]\n",
    "\n",
    "# Folder containing the CSV files\n",
    "folder_path = \"C:/Users/moham/Desktop/Data Analysis/pizza_sales\"\n",
    "\n",
    "# Define a function to map pandas data types to SQL types\n",
    "def get_sql_type(dtype):\n",
    "    if pd.api.types.is_integer_dtype(dtype):\n",
    "        return 'INTEGER'\n",
    "    elif pd.api.types.is_float_dtype(dtype):\n",
    "        return 'REAL'\n",
    "    elif pd.api.types.is_bool_dtype(dtype):\n",
    "        return 'BOOLEAN'\n",
    "    elif pd.api.types.is_datetime64_any_dtype(dtype):\n",
    "        return 'TIMESTAMP'\n",
    "    else:\n",
    "        return 'TEXT'\n",
    "\n",
    "try:\n",
    "    # Connect to the PostgreSQL database\n",
    "    conn = psycopg2.connect(\n",
    "        host='localhost',\n",
    "        user='postgres',\n",
    "        password='mohammad',\n",
    "        dbname='pizza-store',\n",
    "        port='5432'  # typically 5432 for PostgreSQL\n",
    "    )\n",
    "    cursor = conn.cursor()\n",
    "    print(\"Connected to the database.\")\n",
    "\n",
    "    # Loop over CSV files and load each into PostgreSQL\n",
    "    for csv_file, table_name in csv_files:\n",
    "        file_path = os.path.join(folder_path, csv_file)\n",
    "\n",
    "        # Read the CSV file into a pandas DataFrame\n",
    "        df = pd.read_csv(file_path, encoding='utf-8', encoding_errors='ignore')\n",
    "\n",
    "\n",
    "        # Replace NaN with None to handle SQL NULL\n",
    "        df = df.where(pd.notnull(df), None)\n",
    "        \n",
    "        # Clean column names\n",
    "        df.columns = [col.replace(' ', '_').replace('-', '_').replace('.', '_') for col in df.columns]\n",
    "\n",
    "        # Generate the CREATE TABLE statement with appropriate data types\n",
    "        columns = ', '.join([f'\"{col}\" {get_sql_type(df[col].dtype)}' for col in df.columns])\n",
    "        create_table_query = f'CREATE TABLE IF NOT EXISTS \"{table_name}\" ({columns})'\n",
    "        cursor.execute(create_table_query)\n",
    "        print(f\"Table `{table_name}` created or already exists.\")\n",
    "\n",
    "        # Insert DataFrame data into the PostgreSQL table\n",
    "        for _, row in df.iterrows():\n",
    "            # Convert row to tuple and handle NaN/None explicitly\n",
    "            values = tuple(None if pd.isna(x) else x for x in row)\n",
    "            sql = f\"INSERT INTO \\\"{table_name}\\\" ({', '.join(['\"' + col + '\"' for col in df.columns])}) VALUES ({', '.join(['%s'] * len(row))})\"\n",
    "            cursor.execute(sql, values)\n",
    "\n",
    "        # Commit the transaction for the current CSV file\n",
    "        conn.commit()\n",
    "        print(f\"Data from `{csv_file}` inserted successfully into `{table_name}`.\")\n",
    "\n",
    "except psycopg2.Error as err:\n",
    "    print(f\"Error: {err}\")\n",
    "finally:\n",
    "    # Close the cursor and connection\n",
    "    if cursor:\n",
    "        cursor.close()\n",
    "    if conn:\n",
    "        conn.close()\n",
    "    print(\"Database connection closed.\")\n"
   ]
  },
  {
   "cell_type": "code",
   "execution_count": null,
   "metadata": {},
   "outputs": [],
   "source": [
    " "
   ]
  }
 ],
 "metadata": {
  "kernelspec": {
   "display_name": "Python 3",
   "language": "python",
   "name": "python3"
  },
  "language_info": {
   "codemirror_mode": {
    "name": "ipython",
    "version": 3
   },
   "file_extension": ".py",
   "mimetype": "text/x-python",
   "name": "python",
   "nbconvert_exporter": "python",
   "pygments_lexer": "ipython3",
   "version": "3.12.3"
  }
 },
 "nbformat": 4,
 "nbformat_minor": 2
}
